{
 "cells": [
  {
   "cell_type": "markdown",
   "metadata": {},
   "source": [
    "# Split Images into training, validation and testing\n",
    "\n",
    "Code adapted from [stackoverflow question](https://stackoverflow.com/questions/53074712/how-to-split-folder-of-images-into-test-training-validation-sets-with-stratified)"
   ]
  },
  {
   "cell_type": "code",
   "execution_count": 5,
   "metadata": {},
   "outputs": [],
   "source": [
    "import os\n",
    "import numpy as np\n",
    "import shutil\n",
    "import random\n",
    "from tqdm import tqdm"
   ]
  },
  {
   "cell_type": "code",
   "execution_count": 7,
   "metadata": {},
   "outputs": [
    {
     "name": "stdout",
     "output_type": "stream",
     "text": [
      "Handling class 1/2\n",
      "Total images:  20000\n",
      "Training:  14000\n",
      "Validation:  3000\n",
      "Testing:  3000\n"
     ]
    },
    {
     "name": "stderr",
     "output_type": "stream",
     "text": [
      "100%|████████████████████████████████████████████████████████████████████████████| 14000/14000 [09:36<00:00, 24.29it/s]\n",
      "100%|██████████████████████████████████████████████████████████████████████████████| 3000/3000 [02:23<00:00, 20.93it/s]\n",
      "100%|██████████████████████████████████████████████████████████████████████████████| 3000/3000 [02:36<00:00, 19.22it/s]\n"
     ]
    },
    {
     "name": "stdout",
     "output_type": "stream",
     "text": [
      "Handling class 2/2\n",
      "Total images:  20000\n",
      "Training:  14000\n",
      "Validation:  3000\n",
      "Testing:  3000\n"
     ]
    },
    {
     "name": "stderr",
     "output_type": "stream",
     "text": [
      "100%|████████████████████████████████████████████████████████████████████████████| 14000/14000 [10:18<00:00, 22.63it/s]\n",
      "100%|██████████████████████████████████████████████████████████████████████████████| 3000/3000 [01:47<00:00, 27.85it/s]\n",
      "100%|██████████████████████████████████████████████████████████████████████████████| 3000/3000 [01:58<00:00, 25.27it/s]\n"
     ]
    }
   ],
   "source": [
    "# Creating Train / Val / Test folders (One time use)\n",
    "root_dir = 'Concrete Crack Images for Classification'\n",
    "new_dir = 'ozgenel_dataset_split'\n",
    "classes_dir = ['/Positive', '/Negative']\n",
    "\n",
    "val_ratio = 0.15\n",
    "test_ratio = 0.15\n",
    "\n",
    "for cls in classes_dir:\n",
    "    os.makedirs(new_dir +'/train' + cls)\n",
    "    os.makedirs(new_dir +'/val' + cls)\n",
    "    os.makedirs(new_dir +'/test' + cls)\n",
    "\n",
    "\n",
    "    # Creating partitions of the data after shuffeling\n",
    "    src = root_dir + cls # Folder to copy images from\n",
    "\n",
    "    allFileNames = os.listdir(src)\n",
    "    np.random.shuffle(allFileNames)\n",
    "    train_FileNames, val_FileNames, test_FileNames = np.split(np.array(allFileNames),\n",
    "                                                              [int(len(allFileNames)* (1 - val_ratio - test_ratio)), \n",
    "                                                               int(len(allFileNames)* (1 - test_ratio))])\n",
    "\n",
    "\n",
    "    train_FileNames = [src+'/'+ name for name in train_FileNames.tolist()]\n",
    "    val_FileNames = [src+'/' + name for name in val_FileNames.tolist()]\n",
    "    test_FileNames = [src+'/' + name for name in test_FileNames.tolist()]\n",
    "\n",
    "    print('Handling class {}/{}'.format(classes_dir.index(cls) + 1, len(classes_dir)))\n",
    "    print('Total images: ', len(allFileNames))\n",
    "    print('Training: ', len(train_FileNames))\n",
    "    print('Validation: ', len(val_FileNames))\n",
    "    print('Testing: ', len(test_FileNames))\n",
    "    \n",
    "    # Copy-pasting images\n",
    "    for name in tqdm(train_FileNames):\n",
    "        shutil.copy(name, new_dir +'/train' + cls)\n",
    "\n",
    "    for name in tqdm(val_FileNames):\n",
    "        shutil.copy(name, new_dir +'/val' + cls)\n",
    "\n",
    "    for name in tqdm(test_FileNames):\n",
    "        shutil.copy(name, new_dir +'/test' + cls)"
   ]
  }
 ],
 "metadata": {
  "kernelspec": {
   "display_name": "Python 3",
   "language": "python",
   "name": "python3"
  },
  "language_info": {
   "codemirror_mode": {
    "name": "ipython",
    "version": 3
   },
   "file_extension": ".py",
   "mimetype": "text/x-python",
   "name": "python",
   "nbconvert_exporter": "python",
   "pygments_lexer": "ipython3",
   "version": "3.8.3"
  }
 },
 "nbformat": 4,
 "nbformat_minor": 2
}
